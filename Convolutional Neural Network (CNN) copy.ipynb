{
 "cells": [
  {
   "cell_type": "markdown",
   "metadata": {},
   "source": [
    "Convolutional Neural Network (CNN)"
   ]
  },
  {
   "cell_type": "markdown",
   "metadata": {},
   "source": [
    "Importing the libraries"
   ]
  },
  {
   "cell_type": "code",
   "execution_count": 1,
   "metadata": {},
   "outputs": [],
   "source": [
    "import numpy as np\n",
    "import pandas as pd\n",
    "import matplotlib.pyplot as plt\n",
    "import tensorflow as tf\n",
    "# from keras.preprocessing.image import ImageDataGenerator\n",
    "from tensorflow.keras.preprocessing.image import ImageDataGenerator\n"
   ]
  },
  {
   "cell_type": "code",
   "execution_count": 2,
   "metadata": {},
   "outputs": [
    {
     "data": {
      "text/plain": [
       "'2.1.0'"
      ]
     },
     "execution_count": 2,
     "metadata": {},
     "output_type": "execute_result"
    }
   ],
   "source": [
    "tf.__version__"
   ]
  },
  {
   "cell_type": "markdown",
   "metadata": {},
   "source": [
    "Part 1 Data Preprocessing"
   ]
  },
  {
   "cell_type": "markdown",
   "metadata": {},
   "source": [
    "Preprocessing The Training set"
   ]
  },
  {
   "cell_type": "code",
   "execution_count": 3,
   "metadata": {},
   "outputs": [
    {
     "name": "stdout",
     "output_type": "stream",
     "text": [
      "Found 8000 images belonging to 2 classes.\n"
     ]
    }
   ],
   "source": [
    "train_data_generator=ImageDataGenerator(rescale=1./255,shear_range=0.2,zoom_range=0.2,horizontal_flip=True)\n",
    "# rescale is feature scaling\n",
    "# shear_range is transformation\n",
    "training_set=train_data_generator.flow_from_directory(\"dataset/dataset/training_set\",target_size=(64,64),batch_size=32,class_mode='binary')\n",
    "# class mode will be categorical for more than 1 output"
   ]
  },
  {
   "cell_type": "markdown",
   "metadata": {},
   "source": [
    "Preprocessing The Testing set"
   ]
  },
  {
   "cell_type": "code",
   "execution_count": 4,
   "metadata": {},
   "outputs": [
    {
     "name": "stdout",
     "output_type": "stream",
     "text": [
      "Found 2000 images belonging to 2 classes.\n"
     ]
    }
   ],
   "source": [
    "# ! the images of the test set should have the same intact for testing\n",
    "test_data_generator=ImageDataGenerator(rescale=1./255)\n",
    "testing_set=test_data_generator.flow_from_directory(\"dataset/dataset/test_set\",target_size=(64,64),batch_size=32,class_mode='binary')"
   ]
  },
  {
   "cell_type": "markdown",
   "metadata": {},
   "source": [
    "Part 2 Building the CNN"
   ]
  },
  {
   "cell_type": "markdown",
   "metadata": {},
   "source": [
    "Initilization of the CNN"
   ]
  },
  {
   "cell_type": "code",
   "execution_count": 5,
   "metadata": {},
   "outputs": [],
   "source": [
    "cnn=tf.keras.models.Sequential()"
   ]
  },
  {
   "cell_type": "markdown",
   "metadata": {},
   "source": [
    "Step 1 - Convolution"
   ]
  },
  {
   "cell_type": "code",
   "execution_count": 6,
   "metadata": {},
   "outputs": [],
   "source": [
    "cnn.add(tf.keras.layers.Conv2D(filters=32,kernel_size=3,activation=\"relu\",input_shape=[64,64,3]))"
   ]
  },
  {
   "cell_type": "markdown",
   "metadata": {},
   "source": [
    "Step 2 - Pooling"
   ]
  },
  {
   "cell_type": "code",
   "execution_count": 7,
   "metadata": {},
   "outputs": [],
   "source": [
    "# ! max pooling\n",
    "cnn.add(tf.keras.layers.MaxPool2D(strides=2,pool_size=2))"
   ]
  },
  {
   "cell_type": "markdown",
   "metadata": {},
   "source": [
    "Adding Second Convolutional Layer"
   ]
  },
  {
   "cell_type": "code",
   "execution_count": 8,
   "metadata": {},
   "outputs": [],
   "source": [
    "cnn.add(tf.keras.layers.Conv2D(filters=32,kernel_size=3,activation=\"relu\"))\n",
    "cnn.add(tf.keras.layers.MaxPool2D(strides=2,pool_size=2))\n"
   ]
  },
  {
   "cell_type": "markdown",
   "metadata": {},
   "source": [
    "Step 3 Flattening"
   ]
  },
  {
   "cell_type": "code",
   "execution_count": 9,
   "metadata": {},
   "outputs": [],
   "source": [
    "cnn.add(tf.keras.layers.Flatten())"
   ]
  },
  {
   "cell_type": "markdown",
   "metadata": {},
   "source": [
    "Step 4 Fully connected layer"
   ]
  },
  {
   "cell_type": "code",
   "execution_count": 10,
   "metadata": {},
   "outputs": [],
   "source": [
    "# ? same as ANN\n",
    "cnn.add(tf.keras.layers.Dense(activation=\"relu\",units=128))\n",
    "# !can take same as ann ie 6 but better with 128"
   ]
  },
  {
   "cell_type": "markdown",
   "metadata": {},
   "source": [
    "Step 5 Output Layer"
   ]
  },
  {
   "cell_type": "code",
   "execution_count": 11,
   "metadata": {},
   "outputs": [],
   "source": [
    "cnn.add(tf.keras.layers.Dense(activation=\"sigmoid\",units=1))"
   ]
  },
  {
   "cell_type": "markdown",
   "metadata": {},
   "source": [
    "Part 3 Training The CNN"
   ]
  },
  {
   "cell_type": "markdown",
   "metadata": {},
   "source": [
    "Compiling the CNN"
   ]
  },
  {
   "cell_type": "code",
   "execution_count": 12,
   "metadata": {},
   "outputs": [],
   "source": [
    "cnn.compile(optimizer=\"adam\",loss=\"binary_crossentropy\",metrics=[\"accuracy\"])"
   ]
  },
  {
   "cell_type": "markdown",
   "metadata": {},
   "source": [
    "Training the CNN on the training set and evaluating it on the Test set"
   ]
  },
  {
   "cell_type": "code",
   "execution_count": 13,
   "metadata": {},
   "outputs": [
    {
     "name": "stdout",
     "output_type": "stream",
     "text": [
      "WARNING:tensorflow:sample_weight modes were coerced from\n",
      "  ...\n",
      "    to  \n",
      "  ['...']\n",
      "WARNING:tensorflow:sample_weight modes were coerced from\n",
      "  ...\n",
      "    to  \n",
      "  ['...']\n",
      "Train for 250 steps, validate for 63 steps\n",
      "Epoch 1/25\n",
      "250/250 [==============================] - 130s 522ms/step - loss: 0.6632 - accuracy: 0.6034 - val_loss: 0.6041 - val_accuracy: 0.6750\n",
      "Epoch 2/25\n",
      "250/250 [==============================] - 58s 232ms/step - loss: 0.5970 - accuracy: 0.6774 - val_loss: 0.5504 - val_accuracy: 0.7190\n",
      "Epoch 3/25\n",
      "250/250 [==============================] - 59s 234ms/step - loss: 0.5519 - accuracy: 0.7194 - val_loss: 0.5695 - val_accuracy: 0.7005\n",
      "Epoch 4/25\n",
      "250/250 [==============================] - 56s 224ms/step - loss: 0.5183 - accuracy: 0.7445 - val_loss: 0.5405 - val_accuracy: 0.7250\n",
      "Epoch 5/25\n",
      "250/250 [==============================] - 75s 299ms/step - loss: 0.5004 - accuracy: 0.7514 - val_loss: 0.5749 - val_accuracy: 0.7080\n",
      "Epoch 6/25\n",
      "250/250 [==============================] - 102s 409ms/step - loss: 0.4889 - accuracy: 0.7631 - val_loss: 0.5135 - val_accuracy: 0.7540\n",
      "Epoch 7/25\n",
      "250/250 [==============================] - 64s 256ms/step - loss: 0.4640 - accuracy: 0.7780 - val_loss: 0.5500 - val_accuracy: 0.7385\n",
      "Epoch 8/25\n",
      "250/250 [==============================] - 54s 216ms/step - loss: 0.4586 - accuracy: 0.7801 - val_loss: 0.4626 - val_accuracy: 0.7855 - accuracy: \n",
      "Epoch 9/25\n",
      "250/250 [==============================] - 49s 198ms/step - loss: 0.4425 - accuracy: 0.7895 - val_loss: 0.4758 - val_accuracy: 0.7810\n",
      "Epoch 10/25\n",
      "250/250 [==============================] - 48s 191ms/step - loss: 0.4280 - accuracy: 0.8005 - val_loss: 0.5971 - val_accuracy: 0.7425\n",
      "Epoch 11/25\n",
      "250/250 [==============================] - 48s 191ms/step - loss: 0.4155 - accuracy: 0.8077 - val_loss: 0.5144 - val_accuracy: 0.7600\n",
      "Epoch 12/25\n",
      "250/250 [==============================] - 47s 189ms/step - loss: 0.4032 - accuracy: 0.8198 - val_loss: 0.5080 - val_accuracy: 0.7780\n",
      "Epoch 13/25\n",
      "250/250 [==============================] - 47s 190ms/step - loss: 0.3894 - accuracy: 0.8229 - val_loss: 0.4714 - val_accuracy: 0.8000\n",
      "Epoch 14/25\n",
      "250/250 [==============================] - 49s 195ms/step - loss: 0.3772 - accuracy: 0.8307 - val_loss: 0.4719 - val_accuracy: 0.7920\n",
      "Epoch 15/25\n",
      "250/250 [==============================] - 52s 207ms/step - loss: 0.3707 - accuracy: 0.8332 - val_loss: 0.4944 - val_accuracy: 0.7990\n",
      "Epoch 16/25\n",
      "250/250 [==============================] - 50s 198ms/step - loss: 0.3536 - accuracy: 0.8432 - val_loss: 0.4747 - val_accuracy: 0.7930\n",
      "Epoch 17/25\n",
      "250/250 [==============================] - 48s 193ms/step - loss: 0.3423 - accuracy: 0.8475 - val_loss: 0.4623 - val_accuracy: 0.8020\n",
      "Epoch 18/25\n",
      "250/250 [==============================] - 49s 195ms/step - loss: 0.3236 - accuracy: 0.8575 - val_loss: 0.5018 - val_accuracy: 0.7965\n",
      "Epoch 19/25\n",
      "250/250 [==============================] - 47s 188ms/step - loss: 0.3181 - accuracy: 0.8626 - val_loss: 0.4908 - val_accuracy: 0.7935\n",
      "Epoch 20/25\n",
      "250/250 [==============================] - 47s 189ms/step - loss: 0.2948 - accuracy: 0.8694 - val_loss: 0.5295 - val_accuracy: 0.7760\n",
      "Epoch 21/25\n",
      "250/250 [==============================] - 51s 205ms/step - loss: 0.2988 - accuracy: 0.8696 - val_loss: 0.5325 - val_accuracy: 0.7830\n",
      "Epoch 22/25\n",
      "250/250 [==============================] - 47s 189ms/step - loss: 0.2880 - accuracy: 0.8779 - val_loss: 0.4989 - val_accuracy: 0.7990\n",
      "Epoch 23/25\n",
      "250/250 [==============================] - 54s 217ms/step - loss: 0.2708 - accuracy: 0.8851 - val_loss: 0.4876 - val_accuracy: 0.8115\n",
      "Epoch 24/25\n",
      "250/250 [==============================] - 51s 203ms/step - loss: 0.2578 - accuracy: 0.8931 - val_loss: 0.5438 - val_accuracy: 0.7865\n",
      "Epoch 25/25\n",
      "250/250 [==============================] - 55s 220ms/step - loss: 0.2500 - accuracy: 0.8931 - val_loss: 0.5709 - val_accuracy: 0.7890\n"
     ]
    },
    {
     "data": {
      "text/plain": [
       "<tensorflow.python.keras.callbacks.History at 0x21de3698b38>"
      ]
     },
     "execution_count": 13,
     "metadata": {},
     "output_type": "execute_result"
    }
   ],
   "source": [
    "cnn.fit(x=training_set,validation_data=testing_set,epochs=25,)"
   ]
  },
  {
   "cell_type": "markdown",
   "metadata": {},
   "source": []
  },
  {
   "cell_type": "markdown",
   "metadata": {},
   "source": [
    "Part 4 Making a single prediction"
   ]
  },
  {
   "cell_type": "code",
   "execution_count": 14,
   "metadata": {},
   "outputs": [],
   "source": [
    "from tensorflow.keras.preprocessing import image\n",
    "test_img=image.load_img(\"dataset/dataset/check/WhatsApp Image 2024-04-21 at 15.47.17_3170494c.jpg\",target_size=(64,64))\n",
    "test_img=image.img_to_array(test_img)\n",
    "test_img=np.expand_dims(test_img,axis=0)\n",
    "# making the right format\n",
    "result=cnn.predict(test_img)\n",
    "training_set.class_indices\n",
    "if result[0][0]==1:\n",
    "    prediction=\"Dog\"\n",
    "else: \n",
    "    prediction=\"Cat\""
   ]
  },
  {
   "cell_type": "code",
   "execution_count": 15,
   "metadata": {},
   "outputs": [
    {
     "name": "stdout",
     "output_type": "stream",
     "text": [
      "Dog\n"
     ]
    }
   ],
   "source": [
    "print(prediction)"
   ]
  }
 ],
 "metadata": {
  "kernelspec": {
   "display_name": "Python 3",
   "language": "python",
   "name": "python3"
  },
  "language_info": {
   "codemirror_mode": {
    "name": "ipython",
    "version": 3
   },
   "file_extension": ".py",
   "mimetype": "text/x-python",
   "name": "python",
   "nbconvert_exporter": "python",
   "pygments_lexer": "ipython3",
   "version": "3.6.13"
  }
 },
 "nbformat": 4,
 "nbformat_minor": 2
}
